{
 "cells": [
  {
   "cell_type": "markdown",
   "metadata": {},
   "source": [
    "I had a meeting with Risa the other day and she suggested some of the problem's I've been having were coming from the simulations and not my code. To avoid being distracted, she suggested I basically mock up some results and pull them out. I'm expecting this to be easy because my modeling framework is debugged and coded up. "
   ]
  },
  {
   "cell_type": "code",
   "execution_count": null,
   "metadata": {
    "collapsed": true
   },
   "outputs": [],
   "source": [
    "from matplotlib import pyplot as plt\n",
    "%matplotlib inline\n",
    "import seaborn as sns\n",
    "sns.set()"
   ]
  },
  {
   "cell_type": "code",
   "execution_count": null,
   "metadata": {
    "collapsed": true
   },
   "outputs": [],
   "source": [
    "from astropy.io import fits\n",
    "#dataDir = '/home/sean/Data/BuzzardSims/'\n",
    "dataDir = '/nfs/slac/g/ki/ki19/des/erykoff/clusters/mocks/Buzzard/buzzard-1.1/des_y5/redmapper_v6.4.7/halos/'\n",
    "hdulist = fits.open(dataDir+'buzzard-v1.1-y5_run_00340_lambda_chisq.fit')\n",
    "data = hdulist[1].data\n",
    "\n",
    "import numpy as np\n",
    "mass = data['M200']\n",
    "print 'Rows:\\t%d'%mass.shape[0]\n",
    "redshifts = data['Z']\n",
    "\n",
    "mass = mass[redshifts<1.7]#for my approximation\n",
    "redshifts = redshifts[redshifts<1.7]\n",
    "\n",
    "logMass = np.log10(mass)"
   ]
  },
  {
   "cell_type": "markdown",
   "metadata": {},
   "source": [
    "The model in the paper Risa sent me is:\n",
    "\n",
    "$ \\log{\\lambda}(M) = \\log{\\lambda_0} + A_{\\lambda}\\log{\\frac{M}{M_{piv}}}+B_{\\lambda} \\log{\\frac{1+z}{1.3}} $\n",
    "\n",
    "Where $A_{\\lambda}$ is allowed to vary with redshift by:\n",
    "\n",
    "$ A_{\\lambda} \\equiv a \\left(\\frac{1+z}{1.3} \\right)^b $\n",
    "\n",
    "The defined/measured values for these params are shown in the table below (with uncertainties surpressed). I will use these to draw a richness sample and then infer them back. "
   ]
  },
  {
   "cell_type": "markdown",
   "metadata": {},
   "source": [
    "| Quantity | Value |\n",
    "|:--- | ----------------------------------------: |\n",
    "| $M_{piv}$ | $2.35 \\times 10^{14} \\; M_{\\odot} $ | \n",
    "| $\\log{\\lambda_0}$ | 3.141 | \n",
    "| $a$ | 0.842 |\n",
    "| $b$ | -0.03 |\n",
    "| $ B_{\\lambda} $ | 0.642 |\n",
    "| $ \\sigma_{\\lambda} $ | 0.184 | "
   ]
  },
  {
   "cell_type": "code",
   "execution_count": null,
   "metadata": {
    "collapsed": true
   },
   "outputs": [],
   "source": [
    "M_piv = 2.35e14\n",
    "log_lam0 = 3.141\n",
    "a, b = 0.842, -0.03\n",
    "B_lam = 0.642\n",
    "sigma_lam = 0.184\n",
    "\n",
    "def _A_lam(a, b, z):\n",
    "    return a*pow((1+z)/1.3, b)\n",
    "from scipy.stats import norm\n",
    "#forward model\n",
    "def log_lam(log_lam0, a, b, B_lam, sigma_lam, z, M):\n",
    "    A_lam = _A_lam(a,b,z)\n",
    "    mu = log_lam0+A_lam*np.log(M/M_piv)+B_lam*np.log((1+z)/1.3)\n",
    "    return norm.rvs(loc = mu, scale = sigma_lam)"
   ]
  },
  {
   "cell_type": "code",
   "execution_count": null,
   "metadata": {
    "collapsed": true
   },
   "outputs": [],
   "source": [
    "log_richness = log_lam(log_lam0, a, b, B_lam, sigma_lam, redshifts, mass)"
   ]
  },
  {
   "cell_type": "code",
   "execution_count": null,
   "metadata": {
    "collapsed": true
   },
   "outputs": [],
   "source": [
    "plt.hist(log_richness)"
   ]
  },
  {
   "cell_type": "code",
   "execution_count": null,
   "metadata": {
    "collapsed": true
   },
   "outputs": [],
   "source": []
  }
 ],
 "metadata": {
  "kernelspec": {
   "display_name": "Python 2",
   "language": "python",
   "name": "python2"
  },
  "language_info": {
   "codemirror_mode": {
    "name": "ipython",
    "version": 2
   },
   "file_extension": ".py",
   "mimetype": "text/x-python",
   "name": "python",
   "nbconvert_exporter": "python",
   "pygments_lexer": "ipython2",
   "version": "2.7.3"
  }
 },
 "nbformat": 4,
 "nbformat_minor": 0
}
