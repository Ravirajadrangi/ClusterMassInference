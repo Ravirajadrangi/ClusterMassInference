{
 "cells": [
  {
   "cell_type": "markdown",
   "metadata": {},
   "source": [
    "My work in the previous few notebook has shown that naive MCMC will not work for this problem; the scale is too large. It has been suggested that importance sampling may hold the answer. I'm going to start by sampling some mock data, then attempting to importance sample its parameters."
   ]
  },
  {
   "cell_type": "code",
   "execution_count": 140,
   "metadata": {
    "collapsed": false
   },
   "outputs": [],
   "source": [
    "from matplotlib import pyplot as plt\n",
    "%matplotlib inline\n",
    "import seaborn as sns\n",
    "sns.set()\n",
    "colors = sns.color_palette()\n",
    "import numpy as np\n",
    "np.random.seed(0)#\"Random\""
   ]
  },
  {
   "cell_type": "code",
   "execution_count": 141,
   "metadata": {
    "collapsed": true
   },
   "outputs": [],
   "source": [
    "#First, will need the parameters\n",
    "redshift = .9 #one redshift, for now. \n",
    "nSamples = 500\n",
    "vals = {}\n",
    "z = [0.23, 1.5]\n",
    "vals['Mp'] = [2.0e14, 1.0e14]\n",
    "vals['A'] = [1.944, 0.293]\n",
    "vals['B1'] = [1.97, 3.07]\n",
    "vals['B2'] = [0.7, 1.2]\n",
    "vals['B3'] = [0.40, 0.73]\n",
    "\n",
    "#interpolates naively between the points given in the original paper\n",
    "z_params = {}\n",
    "from scipy.stats import linregress\n",
    "for key, val in vals.iteritems():\n",
    "    slope, intercept, r, p, stderr = linregress(z, val)\n",
    "    z_params[key] = (slope, intercept)\n",
    "\n",
    "#return the values of the parameters at a given z. \n",
    "getMassParams = lambda z : {key:val[0]*z+val[1] for key,val in z_params.iteritems()}\n",
    "\n",
    "def n_approx(m,z):\n",
    "    params = getMassParams(z)\n",
    "    return params['A']*np.exp(-params['B1']*(m/params['Mp']) \\\n",
    "                    -0.5*params['B2']*(m/params['Mp'])**2 \\\n",
    "                    -0.166*params['B3']*(m/params['Mp'])**3)\n",
    "\n",
    "def log_n_approx(m,z):\n",
    "    params = getMassParams(z)\n",
    "    return -1*(params['B1']*(m/params['Mp']) \\\n",
    "                    +0.5*params['B2']*(m/params['Mp'])**2 \\\n",
    "                    +0.166*params['B3']*(m/params['Mp'])**3)+np.log(params['A'])"
   ]
  },
  {
   "cell_type": "code",
   "execution_count": 142,
   "metadata": {
    "collapsed": true
   },
   "outputs": [],
   "source": [
    "#use MCMC to sample masses from the mass function\n",
    "import emcee as mc\n",
    "ndim = 1\n",
    "nWalkers = 1000\n",
    "nSteps = 500\n",
    "nBurn = 400\n",
    "nCores = 1\n",
    "\n",
    "Mmin, Mmax = 1e13, 5e15\n",
    "pos0 = np.random.uniform(np.log10(Mmin), np.log10(Mmax), size = nWalkers).reshape((nWalkers, ndim))\n",
    "\n",
    "def log_p(logM, z):\n",
    "    logM = logM[0]\n",
    "    m = 10**logM\n",
    "    if m>Mmax or m<Mmin:\n",
    "        return -np.inf\n",
    "    \n",
    "    return log_n_approx(m, z)\n",
    "\n",
    "sampler = mc.EnsembleSampler(nWalkers, ndim, log_p, args=[redshift],threads = nCores)"
   ]
  },
  {
   "cell_type": "code",
   "execution_count": 143,
   "metadata": {
    "collapsed": true
   },
   "outputs": [],
   "source": [
    "sampler.run_mcmc(pos0, nSteps);"
   ]
  },
  {
   "cell_type": "code",
   "execution_count": 144,
   "metadata": {
    "collapsed": false
   },
   "outputs": [
    {
     "data": {
      "image/png": "[encoded data removed]",
      "text/plain": [
       "<matplotlib.figure.Figure at 0x7f5efc77eed0>"
      ]
     },
     "metadata": {},
     "output_type": "display_data"
    }
   ],
   "source": [
    "logMSamples = sampler.chain[:,nBurn:, :].reshape((-1, nSamples))[0,:]\n",
    "mSamples = 10**logMSamples\n",
    "sns.distplot(logMSamples)\n",
    "\n",
    "x = np.linspace(Mmin,Mmax,1000)\n",
    "#contstant mulitple is because seaborn normalizes the hist\n",
    "plt.plot(np.log10(x),1.7*n_approx(x, redshift), color = colors[1])\n",
    "plt.show()"
   ]
  },
  {
   "cell_type": "markdown",
   "metadata": {},
   "source": [
    "Looks good! Go MCMC. "
   ]
  },
  {
   "cell_type": "code",
   "execution_count": 145,
   "metadata": {
    "collapsed": true
   },
   "outputs": [],
   "source": [
    "M_piv = 2.35e14\n",
    "logL0_true = 3.141\n",
    "a_true, b_true = 0.842, -0.03\n",
    "B_l_true = 0.642\n",
    "sigma_l_true = 0.184\n",
    "\n",
    "_A_lam = lambda a,b,z : a*pow((1+z)/1.3, b)\n",
    "\n",
    "from scipy.stats import norm\n",
    "#forward model\n",
    "def logLam(logLam0, a, b, B_lam, z, M):\n",
    "    A_lam = _A_lam(a,b,z)\n",
    "    return logLam0+A_lam*np.log(M/M_piv)+B_lam*np.log((1+z)/1.3)\n",
    "\n",
    "def logLamSample(logLam0, a, b, B_lam,sigma_lam, z,M):\n",
    "    return norm.rvs(loc = logLam(logLam0, a, b, B_lam, z, M), scale = sigma_lam, size = M.shape[0])"
   ]
  },
  {
   "cell_type": "code",
   "execution_count": 146,
   "metadata": {
    "collapsed": true
   },
   "outputs": [],
   "source": [
    "logRichness = logLamSample(logL0_true, a_true, b_true, B_l_true, sigma_l_true, redshift, mSamples)"
   ]
  },
  {
   "cell_type": "code",
   "execution_count": 147,
   "metadata": {
    "collapsed": false
   },
   "outputs": [
    {
     "data": {
      "text/plain": [
       "<matplotlib.axes.AxesSubplot at 0x7f5efe321d50>"
      ]
     },
     "execution_count": 147,
     "metadata": {},
     "output_type": "execute_result"
    },
    {
     "data": {
      "image/png": "[encoded data removed]",
      "text/plain": [
       "<matplotlib.figure.Figure at 0x7f5eefd73b90>"
      ]
     },
     "metadata": {},
     "output_type": "display_data"
    }
   ],
   "source": [
    "sns.distplot(logRichness)"
   ]
  },
  {
   "cell_type": "code",
   "execution_count": 148,
   "metadata": {
    "collapsed": false
   },
   "outputs": [
    {
     "data": {
      "text/plain": [
       "<seaborn.axisgrid.JointGrid at 0x7f5eefb07bd0>"
      ]
     },
     "execution_count": 148,
     "metadata": {},
     "output_type": "execute_result"
    },
    {
     "data": {
      "image/png": "[encoded data removed]",
      "text/plain": [
       "<matplotlib.figure.Figure at 0x7f5efe36d810>"
      ]
     },
     "metadata": {},
     "output_type": "display_data"
    }
   ],
   "source": [
    "sns.jointplot(logMSamples, logRichness, kind = 'kde', stat_func = None, space = 0)"
   ]
  },
  {
   "cell_type": "markdown",
   "metadata": {},
   "source": [
    "Ok, this all looks decent. Sampling with MCMC is the way to go. If you go back up (as I did earlier) and take more mass samples, this looks more or less perfect. I suppose I'm not sure what amount of \"data points\" I'd like to have for this; maybe 1000 is too small. It's easy enough to change later if I decide to. Okay, now to work on importance sampling. \n",
    "\n",
    "I'm trying to start with something simple. So, I will sample masses from our model given a good guess at the parameters (in this case, the true params). "
   ]
  },
  {
   "cell_type": "code",
   "execution_count": 149,
   "metadata": {
    "collapsed": false,
    "scrolled": false
   },
   "outputs": [],
   "source": [
    "from scipy.stats import gamma, norm, expon, t\n",
    "from itertools import izip\n",
    "from scipy.misc import logsumexp\n",
    "#TODO I've relaxed a few priors, I could stand to strengthen them back up again. \n",
    "def log_prior(logL0, a,b,B_l, sigma):\n",
    "    \n",
    "    if any(x<0 for x in (logL0,sigma)):\n",
    "        return -np.inf\n",
    "\n",
    "    t1 = np.arctan(B_l)\n",
    "    t2 = np.arctan(a)\n",
    "    #if any(x< -np.pi/2 or x> np.pi/2 for x in (t1,t2)):\n",
    "    if any(x< 0 or x> np.pi/2 for x in (t1,t2)):\n",
    "        return -np.inf\n",
    "    \n",
    "    #Hyperparameters\n",
    "    lambda_logL0 = 1.0\n",
    "    sigma_a, sigma_b = 1,1\n",
    "    \n",
    "    p = 0\n",
    "    #Exponential in logL0\n",
    "    p+= expon.logpdf(logL0, scale = 1/lambda_logL0)\n",
    "    #Uniform in arctan(B_l) and arctan(a)\n",
    "    p+=2*np.log(1/np.pi)\n",
    "    #flat prior for b\n",
    "    #Have not idea what it would be, start with nothing\n",
    "    #p+=0\n",
    "    \n",
    "    #Inv Gamma for sigma\n",
    "    p-= gamma.logpdf(sigma**2,sigma_a, scale = sigma_b)\n",
    "    return p\n",
    "\n",
    "#returns a logmass given a richness\n",
    "def invLogLam(logLam0, a, b, B_lam, z, logRich):\n",
    "    A_lam = _A_lam(a,b,z)\n",
    "    return np.log(M_piv)+(logRich-logLam0-B_lam*np.log((1+z)/1.3))/A_lam\n",
    "#TODO Make this one synonymous with it non-inverse version\n",
    "#TODO Consider checking if logRich is a vector or a number, and acting accodingly. \n",
    "nSamples = 100\n",
    "def invLogLamSample(logLam0, a, b, B_lam,sigma_mass, z,logRich, size = nSamples):\n",
    "    mu = invLogLam(logLam0, a, b, B_lam, z, logRich)\n",
    "    if sigma_mass == 0:\n",
    "        return mu\n",
    "    return np.array([norm.rvs(loc = m, scale = sigma_mass, size =  (size,)) for m in mu])#( logRich.shape[0], size)\n",
    "\n",
    "sigma_mass = 10 #TODO idk what this should be; i suppose it's my discretion, or some relation to\n",
    "df = 1\n",
    "\n",
    "#draw one set of samples for all steps. Speedup!\n",
    "#TODO Check the bases on everything, maybe the bug is from there\n",
    "logMassSamples = invLogLamSample(logL0_true, a_true, b_true, B_l_true,sigma_mass, redshift, logRichness)\n",
    "massSamples = np.exp(logMassSamples)\n",
    "\n",
    "logPMass = log_n_approx(massSamples,redshift)\n",
    "\n",
    "logPSample = np.array([t.logpdf(lms,df, loc = invLogLam(logL0_true, a_true, b_true, B_l_true, redshift, lr), scale = sigma_mass)\\\n",
    "                     for lms, lr in izip(logMassSamples, logRichness)])\n",
    "\n",
    "def log_liklihood(logL0, a,b, B_l, sigma, z, logRich):\n",
    "\n",
    "    logPRich = np.array([norm.logpdf(lr, loc =logLam(logL0, a, b, B_l, z, ms), scale = sigma)\\\n",
    "                         for lr, ms in izip(logRich, massSamples)])\n",
    "    \n",
    "    logL_k = logsumexp(logPRich+logPMass-logPSample, axis = 1) - np.log(nSamples)#mean of weights\n",
    "\n",
    "    return np.sum(logL_k)\n",
    "\n",
    "def log_liklihood_known(logL0, a,b, B_l, sigma, z, logRich, M):\n",
    "    return np.sum(log_n_approx(M, z))+np.sum(norm.logpdf(logRich, loc =logLam(logL0, a, b, B_l, z, M), scale = sigma))\n",
    "    \n",
    "def log_posterior(theta,z, logRich):\n",
    "    #print theta\n",
    "    logL0,a,b, B_l, sigma = theta[:]\n",
    "    B_l = B_l_true#no z information\n",
    "    b = b_true\n",
    "    p = log_prior(logL0, a,b, B_l, sigma)\n",
    "    if np.isfinite(p):\n",
    "        p+=log_liklihood(logL0,a,b, B_l, sigma, z, logRich)\n",
    "    return p"
   ]
  },
  {
   "cell_type": "code",
   "execution_count": 150,
   "metadata": {
    "collapsed": false
   },
   "outputs": [
    {
     "name": "stdout",
     "output_type": "stream",
     "text": [
      "10 loops, best of 3: 31.7 ms per loop\n"
     ]
    }
   ],
   "source": [
    "%%timeit\n",
    "log_posterior([logL0_true, a_true,b_true, B_l_true, sigma_l_true], redshift, logRichness)"
   ]
  },
  {
   "cell_type": "code",
   "execution_count": 151,
   "metadata": {
    "collapsed": false
   },
   "outputs": [],
   "source": [
    "nCores = 4\n",
    "nWalkers = 1000\n",
    "nSteps = 100\n",
    "#set up sampler\n",
    "nDim = 5\n",
    "\n",
    "logL0_a, logL0_b = 1, 1 # Gamma\n",
    "a_mean, a_spread = 1, 1.5\n",
    "b_mean, b_spread = 0, .5\n",
    "B_l_mean, B_l_spread = 1, 1.5\n",
    "sigma_a, sigma_b = 1, 1 #Gamma\n",
    "\n",
    "pos0 = np.zeros((nWalkers, nDim))\n",
    "for row in pos0:\n",
    "\n",
    "    row[0] = gamma.rvs(logL0_a, scale = logL0_b)\n",
    "    row[1] = norm.rvs(loc = a_mean, scale = a_spread)\n",
    "    row[2] = norm.rvs(loc = b_mean, scale = b_spread)\n",
    "    row[3] = norm.rvs(loc = B_l_mean, scale = B_l_mean)\n",
    "    row[4] = gamma.rvs(sigma_a, scale = sigma_b)"
   ]
  },
  {
   "cell_type": "code",
   "execution_count": 152,
   "metadata": {
    "collapsed": false
   },
   "outputs": [],
   "source": [
    "del(sampler)\n",
    "sampler = mc.EnsembleSampler(nWalkers, nDim, log_posterior, args=[redshift, logRichness],threads = nCores)"
   ]
  },
  {
   "cell_type": "code",
   "execution_count": 153,
   "metadata": {
    "collapsed": false
   },
   "outputs": [],
   "source": [
    "sampler.run_mcmc(pos0, nSteps);"
   ]
  },
  {
   "cell_type": "code",
   "execution_count": 154,
   "metadata": {
    "collapsed": false
   },
   "outputs": [
    {
     "name": "stdout",
     "output_type": "stream",
     "text": [
      "\tMCMC\tTrue\n",
      "logL0:\t89529.944\t3.141\n",
      "a:\t328061.858\t0.842\n",
      "b:\t-2445946.062\t-0.030\n",
      "B_l:\t-8870452.695\t0.642\n",
      "sigma:\t7216080.500\t0.184\n"
     ]
    }
   ],
   "source": [
    "nBurn = 50\n",
    "chain = sampler.chain[:,nBurn:, :].reshape((-1, nDim))\n",
    "sampler.pool.terminate()#there's a bug in emcee that creates daemon threads. This kills them.\n",
    "#del(sampler)\n",
    "\n",
    "MAP = chain.mean(axis = 0)\n",
    "\n",
    "labels = ['logL0', 'a', 'b','B_l','sigma']\n",
    "print '\\tMCMC\\tTrue'\n",
    "for label, val, truth in zip(labels, MAP, [logL0_true, a_true, b_true, B_l_true, sigma_l_true]):\n",
    "    print '%s:\\t%.3f\\t%.3f'%(label, val, truth)"
   ]
  },
  {
   "cell_type": "code",
   "execution_count": 155,
   "metadata": {
    "collapsed": false
   },
   "outputs": [
    {
     "data": {
      "image/png": "[encoded data removed]",
      "text/plain": [
       "<matplotlib.figure.Figure at 0x7f5eefa5db10>"
      ]
     },
     "metadata": {},
     "output_type": "display_data"
    }
   ],
   "source": [
    "from corner import corner\n",
    "titles = ['$\\log{\\lambda_0}$', '$a$', '$\\sigma$']\n",
    "shortChain = np.c_[chain[:,0], chain[:,1], chain[:,4]]\n",
    "corner(shortChain, labels = titles , truths = [logL0_true, a_true, sigma_l_true]);"
   ]
  },
  {
   "cell_type": "code",
   "execution_count": null,
   "metadata": {
    "collapsed": true
   },
   "outputs": [],
   "source": []
  }
 ],
 "metadata": {
  "kernelspec": {
   "display_name": "Python 2",
   "language": "python",
   "name": "python2"
  }
 },
 "nbformat": 4,
 "nbformat_minor": 0
}
