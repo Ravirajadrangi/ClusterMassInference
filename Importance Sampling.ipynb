{
 "cells": [
  {
   "cell_type": "markdown",
   "metadata": {},
   "source": [
    "My work in the previous few notebook has shown that naive MCMC will not work for this problem; the scale is too large. It has been suggested that importance sampling may hold the answer. I'm going to start by sampling some mock data, then attempting to importance sample its parameters."
   ]
  },
  {
   "cell_type": "code",
   "execution_count": 55,
   "metadata": {
    "collapsed": false
   },
   "outputs": [],
   "source": [
    "from matplotlib import pyplot as plt\n",
    "%matplotlib inline\n",
    "import seaborn as sns\n",
    "sns.set()\n",
    "colors = sns.color_palette()\n",
    "import numpy as np\n",
    "np.random.seed(0)#\"Random\""
   ]
  },
  {
   "cell_type": "markdown",
   "metadata": {},
   "source": [
    "The first step is to sample mock data. I will draw masses from the mass function first. This shows the setup for the approximation used in Evrard 2014."
   ]
  },
  {
   "cell_type": "code",
   "execution_count": 56,
   "metadata": {
    "collapsed": true
   },
   "outputs": [],
   "source": [
    "#First, will need the parameters from the paper. \n",
    "redshift = .9 #one redshift, for now. \n",
    "nData = 1000\n",
    "vals = {}\n",
    "z = [0.23, 1.5]\n",
    "vals['Mp'] = [2.0e14, 1.0e14]\n",
    "vals['A'] = [1.944, 0.293]\n",
    "vals['B1'] = [1.97, 3.07]\n",
    "vals['B2'] = [0.7, 1.2]\n",
    "vals['B3'] = [0.40, 0.73]\n",
    "\n",
    "#interpolates naively between the points given in the original paper\n",
    "z_params = {}\n",
    "from scipy.stats import linregress\n",
    "for key, val in vals.iteritems():\n",
    "    slope, intercept, r, p, stderr = linregress(z, val)\n",
    "    z_params[key] = (slope, intercept)\n",
    "\n",
    "#return the values of the parameters at a given z. \n",
    "getMassParams = lambda z : {key:val[0]*z+val[1] for key,val in z_params.iteritems()}\n",
    "\n",
    "def n_approx(m,z):\n",
    "    params = getMassParams(z)\n",
    "    return params['A']*np.exp(-params['B1']*(m/params['Mp']) \\\n",
    "                    -0.5*params['B2']*(m/params['Mp'])**2 \\\n",
    "                    -0.166*params['B3']*(m/params['Mp'])**3)\n",
    "\n",
    "def log_n_approx(m,z):\n",
    "    params = getMassParams(z)\n",
    "    return -1*(params['B1']*(m/params['Mp']) \\\n",
    "                    +0.5*params['B2']*(m/params['Mp'])**2 \\\n",
    "                    +0.166*params['B3']*(m/params['Mp'])**3)+np.log(params['A'])"
   ]
  },
  {
   "cell_type": "markdown",
   "metadata": {},
   "source": [
    "I used MCMC to draw samples from the mass function. "
   ]
  },
  {
   "cell_type": "code",
   "execution_count": 57,
   "metadata": {
    "collapsed": true
   },
   "outputs": [],
   "source": [
    "#use MCMC to sample masses from the mass function\n",
    "import emcee as mc\n",
    "ndim = 1\n",
    "nWalkers = 1000\n",
    "nSteps = 500\n",
    "nBurn = 400\n",
    "nCores = 1\n",
    "\n",
    "Mmin, Mmax = 1e13, 5e15\n",
    "pos0 = np.random.uniform(np.log10(Mmin), np.log10(Mmax), size = nWalkers).reshape((nWalkers, ndim))\n",
    "\n",
    "def log_p(logM, z):\n",
    "    logM = logM[0]\n",
    "    m = 10**logM\n",
    "    if m>Mmax or m<Mmin:\n",
    "        return -np.inf\n",
    "    \n",
    "    return log_n_approx(m, z)\n",
    "\n",
    "sampler = mc.EnsembleSampler(nWalkers, ndim, log_p, args=[redshift],threads = nCores)"
   ]
  },
  {
   "cell_type": "code",
   "execution_count": 58,
   "metadata": {
    "collapsed": true
   },
   "outputs": [],
   "source": [
    "sampler.run_mcmc(pos0, nSteps);"
   ]
  },
  {
   "cell_type": "code",
   "execution_count": 59,
   "metadata": {
    "collapsed": false
   },
   "outputs": [
    {
     "data": {
      "image/png": "[encoded data removed]",
      "text/plain": [
       "<matplotlib.figure.Figure at 0x7f8768748610>"
      ]
     },
     "metadata": {},
     "output_type": "display_data"
    }
   ],
   "source": [
    "logMSamples = sampler.chain[:,nBurn:, :].reshape((-1, nData))[0,:]\n",
    "mSamples = 10**logMSamples\n",
    "sns.distplot(logMSamples)\n",
    "\n",
    "x = np.linspace(Mmin,Mmax,1000)\n",
    "#contstant mulitple is because seaborn normalizes the hist\n",
    "plt.plot(np.log10(x),1.7*n_approx(x, redshift), color = colors[1])\n",
    "plt.title('Mass Samples v. Mass Function')\n",
    "plt.show()"
   ]
  },
  {
   "cell_type": "markdown",
   "metadata": {},
   "source": [
    "Looks good! Go MCMC. Now that we have mass samples, we can draw richnesses from them.  "
   ]
  },
  {
   "cell_type": "code",
   "execution_count": 60,
   "metadata": {
    "collapsed": true
   },
   "outputs": [],
   "source": [
    "#True Parameters from Risa's unpublishedpaper\n",
    "M_piv = 2.35e14\n",
    "logL0_true = 3.141\n",
    "a_true, b_true = 0.842, -0.03\n",
    "B_l_true = 0.642\n",
    "sigma_l_true = 0.184\n",
    "\n",
    "_A_lam = lambda a,b,z : a*pow((1+z)/1.3, b)\n",
    "\n",
    "from scipy.stats import norm\n",
    "#forward \n",
    "#Exact value\n",
    "def logLam(logLam0, a, b, B_lam, z, M):\n",
    "    A_lam = _A_lam(a,b,z)\n",
    "    return logLam0+A_lam*np.log(M/M_piv)+B_lam*np.log((1+z)/1.3)\n",
    "#Value with scatter\n",
    "def logLamSample(logLam0, a, b, B_lam,sigma_lam, z,M):\n",
    "    return norm.rvs(loc = logLam(logLam0, a, b, B_lam, z, M), scale = sigma_lam, size = M.shape[0])"
   ]
  },
  {
   "cell_type": "code",
   "execution_count": 61,
   "metadata": {
    "collapsed": true
   },
   "outputs": [],
   "source": [
    "logRichness = logLamSample(logL0_true, a_true, b_true, B_l_true, sigma_l_true, redshift, mSamples)"
   ]
  },
  {
   "cell_type": "code",
   "execution_count": 62,
   "metadata": {
    "collapsed": false
   },
   "outputs": [
    {
     "data": {
      "text/plain": [
       "<matplotlib.axes._subplots.AxesSubplot at 0x7f876865d250>"
      ]
     },
     "execution_count": 62,
     "metadata": {},
     "output_type": "execute_result"
    },
    {
     "data": {
      "image/png": "[encoded data removed]",
      "text/plain": [
       "<matplotlib.figure.Figure at 0x7f8768f59b10>"
      ]
     },
     "metadata": {},
     "output_type": "display_data"
    }
   ],
   "source": [
    "sns.distplot(logRichness)"
   ]
  },
  {
   "cell_type": "code",
   "execution_count": 63,
   "metadata": {
    "collapsed": false
   },
   "outputs": [
    {
     "data": {
      "text/plain": [
       "<seaborn.axisgrid.JointGrid at 0x7f876b620510>"
      ]
     },
     "execution_count": 63,
     "metadata": {},
     "output_type": "execute_result"
    },
    {
     "data": {
      "image/png": "[encoded data removed]",
      "text/plain": [
       "<matplotlib.figure.Figure at 0x7f87687fe350>"
      ]
     },
     "metadata": {},
     "output_type": "display_data"
    }
   ],
   "source": [
    "sns.jointplot(logMSamples, logRichness, kind = 'kde', stat_func = None, space = 0)"
   ]
  },
  {
   "cell_type": "markdown",
   "metadata": {},
   "source": [
    "Ok, this all looks decent. Sampling with MCMC is the way to go. If you go back up (as I did earlier) and take more mass samples, this looks more or less perfect. I suppose I'm not sure what amount of \"data points\" I'd like to have for this; maybe 1000 is too small. It's easy enough to change later if I decide to. Okay, now to work on importance sampling. \n",
    "\n",
    "I'm trying to start with something simple. So, I will sample masses from our model given a good guess at the parameters (in this case, the true params). This cell produces the components of the Bayesian posterior and implements importance sampling. "
   ]
  },
  {
   "cell_type": "code",
   "execution_count": 64,
   "metadata": {
    "collapsed": false
   },
   "outputs": [
    {
     "name": "stdout",
     "output_type": "stream",
     "text": [
      "Effective Samples: 142.051\n"
     ]
    }
   ],
   "source": [
    "from scipy.stats import gamma, norm, expon, t\n",
    "from itertools import izip\n",
    "from scipy.misc import logsumexp\n",
    "#TODO I've relaxed a few priors, I could stand to strengthen them back up again. \n",
    "def log_prior(logL0, a,b,B_l, sigma):\n",
    "    \n",
    "    if any(x<0 for x in (logL0,sigma)):\n",
    "        return -np.inf\n",
    "\n",
    "    t1 = np.arctan(B_l)\n",
    "    t2 = np.arctan(a)\n",
    "    \n",
    "    if any(x< -np.pi/2 or x> np.pi/2 for x in (t1,t2)):\n",
    "    #if any(x< 0 or x> np.pi/2 for x in (t1,t2)):\n",
    "        return -np.inf\n",
    "    \n",
    "    #Hyperparameters\n",
    "    lambda_logL0 = 1.0\n",
    "    sigma_a, sigma_b = 1,1\n",
    "    \n",
    "    p = 0\n",
    "    #Exponential in logL0\n",
    "    p+= expon.logpdf(logL0, scale = 1/lambda_logL0)\n",
    "    #Uniform in arctan(B_l) and arctan(a)\n",
    "    p+=2*np.log(1/np.pi)\n",
    "    #flat prior for b\n",
    "    #Have not idea what it would be, start with nothing\n",
    "    #p+=0\n",
    "    \n",
    "    #Inv Gamma for sigma\n",
    "    p-= gamma.logpdf(sigma**2,sigma_a, scale = sigma_b)\n",
    "    return p\n",
    "\n",
    "#returns a logmass given a richness\n",
    "#Exact value\n",
    "def invLogLam(logLam0, a, b, B_lam, z, logRich):\n",
    "    A_lam = _A_lam(a,b,z)\n",
    "    #NOTE: Log base e, not 10\n",
    "    return np.log(M_piv)+(logRich-logLam0-B_lam*np.log((1+z)/1.3))/A_lam\n",
    "\n",
    "nSamples = 1000\n",
    "sigma_mass = .1 #scatter of sampling distribuion\n",
    "df = 1\n",
    "\n",
    "#Value with scatter\n",
    "def invLogLamSample(logLam0, a, b, B_lam,sigma_mass, z,logRich, size = nSamples):\n",
    "    mu = invLogLam(logLam0, a, b, B_lam, z, logRich)\n",
    "    if sigma_mass == 0:\n",
    "        return mu\n",
    "    return np.array([t.rvs(df, loc = m, scale = sigma_mass, size =  (size,)) for m in mu])#( logRich.shape[0], size)\n",
    "\n",
    "#draw one set of samples for all steps. Speeds things up, but statistically sound?\n",
    "logMassSamples = invLogLamSample(logL0_true, a_true, b_true, B_l_true,sigma_mass, redshift, logRichness)\n",
    "massSamples = np.exp(logMassSamples)\n",
    "\n",
    "logPMass = log_n_approx(massSamples,redshift)#prior of samples\n",
    "logPMass[massSamples < Mmin]  = -np.inf #samples below threshold are impossible!\n",
    "\n",
    "#Liklihood from sampling distribution\n",
    "logPSample = np.array([t.logpdf(lms,df, loc = invLogLam(logL0_true, a_true, b_true, B_l_true, redshift, lr), scale = sigma_mass)\\\n",
    "                     for lms, lr in izip(logMassSamples, logRichness)])\n",
    "\n",
    "ws = np.exp(logPMass-logPSample)\n",
    "#calculate effective samples\n",
    "numEff = (np.sum(ws, axis = 1)**2)/(np.sum(ws**2, axis = 1))\n",
    "print 'Effective Samples: %.3f'%numEff.mean()\n",
    "\n",
    "def log_liklihood(logL0, a,b, B_l, sigma, z, logRich):\n",
    "    #liklihood of data given params and mass samples\n",
    "    logPRich = np.array([norm.logpdf(lr, loc =logLam(logL0, a, b, B_l, z, ms), scale = sigma)\\\n",
    "                         for lr, ms in izip(logRich, massSamples)])\n",
    "    \n",
    "    logL_k = logsumexp(logPRich+logPMass-logPSample, axis = 1) - np.log(nSamples)#mean of weights\n",
    "\n",
    "    return np.sum(logL_k)\n",
    "\n",
    "#helper function for debugging, for using known masses. \n",
    "def log_liklihood_known(logL0, a,b, B_l, sigma, z, logRich, M):\n",
    "    return np.sum(log_n_approx(M, z))+np.sum(norm.logpdf(logRich, loc =logLam(logL0, a, b, B_l, z, M), scale = sigma))\n",
    "    \n",
    "def log_posterior(theta,z, logRich):\n",
    "    #print theta\n",
    "    logL0,a, sigma = theta[:]\n",
    "    B_l = B_l_true#no z information\n",
    "    b = b_true\n",
    "    p = log_prior(logL0, a,b, B_l, sigma)\n",
    "    if np.isfinite(p):\n",
    "        p+=log_liklihood(logL0,a,b, B_l, sigma, z, logRich)\n",
    "    return p"
   ]
  },
  {
   "cell_type": "markdown",
   "metadata": {},
   "source": [
    "Now run the sampler!"
   ]
  },
  {
   "cell_type": "code",
   "execution_count": 65,
   "metadata": {
    "collapsed": true
   },
   "outputs": [],
   "source": [
    "nCores = 4\n",
    "nWalkers = 200\n",
    "nSteps = 200\n",
    "#set up sampler\n",
    "nDim = 3\n",
    "\n",
    "logL0_a, logL0_b = 1, 1 # Gamma\n",
    "a_mean, a_spread = 1, 1.5\n",
    "#b_mean, b_spread = 0, .5\n",
    "#B_l_mean, B_l_spread = 1, 1.5\n",
    "sigma_a, sigma_b = 1, 1 #Gamma\n",
    "\n",
    "pos0 = np.zeros((nWalkers, nDim))\n",
    "for row in pos0:\n",
    "\n",
    "    row[0] = gamma.rvs(logL0_a, scale = logL0_b)\n",
    "    row[1] = norm.rvs(loc = a_mean, scale = a_spread)\n",
    "    #row[2] = norm.rvs(loc = b_mean, scale = b_spread)\n",
    "    #row[3] = norm.rvs(loc = B_l_mean, scale = B_l_mean)\n",
    "    row[2] = gamma.rvs(sigma_a, scale = sigma_b)"
   ]
  },
  {
   "cell_type": "code",
   "execution_count": 66,
   "metadata": {
    "collapsed": true
   },
   "outputs": [],
   "source": [
    "del(sampler)\n",
    "sampler = mc.EnsembleSampler(nWalkers, nDim, log_posterior, args=[redshift, logRichness],threads = nCores)"
   ]
  },
  {
   "cell_type": "code",
   "execution_count": 67,
   "metadata": {
    "collapsed": false
   },
   "outputs": [
    {
     "ename": "KeyboardInterrupt",
     "evalue": "",
     "output_type": "error",
     "traceback": [
      "\u001b[1;31m---------------------------------------------------------------------------\u001b[0m",
      "\u001b[1;31mKeyboardInterrupt\u001b[0m                         Traceback (most recent call last)",
      "\u001b[1;32m<ipython-input-67-f68bed7e0939>\u001b[0m in \u001b[0;36m<module>\u001b[1;34m()\u001b[0m\n\u001b[1;32m----> 1\u001b[1;33m \u001b[0msampler\u001b[0m\u001b[1;33m.\u001b[0m\u001b[0mrun_mcmc\u001b[0m\u001b[1;33m(\u001b[0m\u001b[0mpos0\u001b[0m\u001b[1;33m,\u001b[0m \u001b[0mnSteps\u001b[0m\u001b[1;33m)\u001b[0m\u001b[1;33m;\u001b[0m\u001b[1;33m\u001b[0m\u001b[0m\n\u001b[0m",
      "\u001b[1;32m/usr/local/lib/python2.7/dist-packages/emcee/sampler.pyc\u001b[0m in \u001b[0;36mrun_mcmc\u001b[1;34m(self, pos0, N, rstate0, lnprob0, **kwargs)\u001b[0m\n\u001b[0;32m    155\u001b[0m         \"\"\"\n\u001b[0;32m    156\u001b[0m         for results in self.sample(pos0, lnprob0, rstate0, iterations=N,\n\u001b[1;32m--> 157\u001b[1;33m                                    **kwargs):\n\u001b[0m\u001b[0;32m    158\u001b[0m             \u001b[1;32mpass\u001b[0m\u001b[1;33m\u001b[0m\u001b[0m\n\u001b[0;32m    159\u001b[0m         \u001b[1;32mreturn\u001b[0m \u001b[0mresults\u001b[0m\u001b[1;33m\u001b[0m\u001b[0m\n",
      "\u001b[1;32m/usr/local/lib/python2.7/dist-packages/emcee/ensemble.pyc\u001b[0m in \u001b[0;36msample\u001b[1;34m(self, p0, lnprob0, rstate0, blobs0, iterations, thin, storechain, mh_proposal)\u001b[0m\n\u001b[0;32m    196\u001b[0m         \u001b[0mblobs\u001b[0m \u001b[1;33m=\u001b[0m \u001b[0mblobs0\u001b[0m\u001b[1;33m\u001b[0m\u001b[0m\n\u001b[0;32m    197\u001b[0m         \u001b[1;32mif\u001b[0m \u001b[0mlnprob\u001b[0m \u001b[1;32mis\u001b[0m \u001b[0mNone\u001b[0m\u001b[1;33m:\u001b[0m\u001b[1;33m\u001b[0m\u001b[0m\n\u001b[1;32m--> 198\u001b[1;33m             \u001b[0mlnprob\u001b[0m\u001b[1;33m,\u001b[0m \u001b[0mblobs\u001b[0m \u001b[1;33m=\u001b[0m \u001b[0mself\u001b[0m\u001b[1;33m.\u001b[0m\u001b[0m_get_lnprob\u001b[0m\u001b[1;33m(\u001b[0m\u001b[0mp\u001b[0m\u001b[1;33m)\u001b[0m\u001b[1;33m\u001b[0m\u001b[0m\n\u001b[0m\u001b[0;32m    199\u001b[0m \u001b[1;33m\u001b[0m\u001b[0m\n\u001b[0;32m    200\u001b[0m         \u001b[1;31m# Check to make sure that the probability function didn't return\u001b[0m\u001b[1;33m\u001b[0m\u001b[1;33m\u001b[0m\u001b[0m\n",
      "\u001b[1;32m/usr/local/lib/python2.7/dist-packages/emcee/ensemble.pyc\u001b[0m in \u001b[0;36m_get_lnprob\u001b[1;34m(self, pos)\u001b[0m\n\u001b[0;32m    380\u001b[0m \u001b[1;33m\u001b[0m\u001b[0m\n\u001b[0;32m    381\u001b[0m         \u001b[1;31m# Run the log-probability calculations (optionally in parallel).\u001b[0m\u001b[1;33m\u001b[0m\u001b[1;33m\u001b[0m\u001b[0m\n\u001b[1;32m--> 382\u001b[1;33m         \u001b[0mresults\u001b[0m \u001b[1;33m=\u001b[0m \u001b[0mlist\u001b[0m\u001b[1;33m(\u001b[0m\u001b[0mM\u001b[0m\u001b[1;33m(\u001b[0m\u001b[0mself\u001b[0m\u001b[1;33m.\u001b[0m\u001b[0mlnprobfn\u001b[0m\u001b[1;33m,\u001b[0m \u001b[1;33m[\u001b[0m\u001b[0mp\u001b[0m\u001b[1;33m[\u001b[0m\u001b[0mi\u001b[0m\u001b[1;33m]\u001b[0m \u001b[1;32mfor\u001b[0m \u001b[0mi\u001b[0m \u001b[1;32min\u001b[0m \u001b[0mrange\u001b[0m\u001b[1;33m(\u001b[0m\u001b[0mlen\u001b[0m\u001b[1;33m(\u001b[0m\u001b[0mp\u001b[0m\u001b[1;33m)\u001b[0m\u001b[1;33m)\u001b[0m\u001b[1;33m]\u001b[0m\u001b[1;33m)\u001b[0m\u001b[1;33m)\u001b[0m\u001b[1;33m\u001b[0m\u001b[0m\n\u001b[0m\u001b[0;32m    383\u001b[0m \u001b[1;33m\u001b[0m\u001b[0m\n\u001b[0;32m    384\u001b[0m         \u001b[1;32mtry\u001b[0m\u001b[1;33m:\u001b[0m\u001b[1;33m\u001b[0m\u001b[0m\n",
      "\u001b[1;32m/usr/local/lib/python2.7/dist-packages/emcee/interruptible_pool.pyc\u001b[0m in \u001b[0;36mmap\u001b[1;34m(self, func, iterable, chunksize)\u001b[0m\n\u001b[0;32m     92\u001b[0m         \u001b[1;32mwhile\u001b[0m \u001b[0mTrue\u001b[0m\u001b[1;33m:\u001b[0m\u001b[1;33m\u001b[0m\u001b[0m\n\u001b[0;32m     93\u001b[0m             \u001b[1;32mtry\u001b[0m\u001b[1;33m:\u001b[0m\u001b[1;33m\u001b[0m\u001b[0m\n\u001b[1;32m---> 94\u001b[1;33m                 \u001b[1;32mreturn\u001b[0m \u001b[0mr\u001b[0m\u001b[1;33m.\u001b[0m\u001b[0mget\u001b[0m\u001b[1;33m(\u001b[0m\u001b[0mself\u001b[0m\u001b[1;33m.\u001b[0m\u001b[0mwait_timeout\u001b[0m\u001b[1;33m)\u001b[0m\u001b[1;33m\u001b[0m\u001b[0m\n\u001b[0m\u001b[0;32m     95\u001b[0m             \u001b[1;32mexcept\u001b[0m \u001b[0mTimeoutError\u001b[0m\u001b[1;33m:\u001b[0m\u001b[1;33m\u001b[0m\u001b[0m\n\u001b[0;32m     96\u001b[0m                 \u001b[1;32mpass\u001b[0m\u001b[1;33m\u001b[0m\u001b[0m\n",
      "\u001b[1;32m/usr/lib/python2.7/multiprocessing/pool.pyc\u001b[0m in \u001b[0;36mget\u001b[1;34m(self, timeout)\u001b[0m\n\u001b[0;32m    550\u001b[0m \u001b[1;33m\u001b[0m\u001b[0m\n\u001b[0;32m    551\u001b[0m     \u001b[1;32mdef\u001b[0m \u001b[0mget\u001b[0m\u001b[1;33m(\u001b[0m\u001b[0mself\u001b[0m\u001b[1;33m,\u001b[0m \u001b[0mtimeout\u001b[0m\u001b[1;33m=\u001b[0m\u001b[0mNone\u001b[0m\u001b[1;33m)\u001b[0m\u001b[1;33m:\u001b[0m\u001b[1;33m\u001b[0m\u001b[0m\n\u001b[1;32m--> 552\u001b[1;33m         \u001b[0mself\u001b[0m\u001b[1;33m.\u001b[0m\u001b[0mwait\u001b[0m\u001b[1;33m(\u001b[0m\u001b[0mtimeout\u001b[0m\u001b[1;33m)\u001b[0m\u001b[1;33m\u001b[0m\u001b[0m\n\u001b[0m\u001b[0;32m    553\u001b[0m         \u001b[1;32mif\u001b[0m \u001b[1;32mnot\u001b[0m \u001b[0mself\u001b[0m\u001b[1;33m.\u001b[0m\u001b[0m_ready\u001b[0m\u001b[1;33m:\u001b[0m\u001b[1;33m\u001b[0m\u001b[0m\n\u001b[0;32m    554\u001b[0m             \u001b[1;32mraise\u001b[0m \u001b[0mTimeoutError\u001b[0m\u001b[1;33m\u001b[0m\u001b[0m\n",
      "\u001b[1;32m/usr/lib/python2.7/multiprocessing/pool.pyc\u001b[0m in \u001b[0;36mwait\u001b[1;34m(self, timeout)\u001b[0m\n\u001b[0;32m    545\u001b[0m         \u001b[1;32mtry\u001b[0m\u001b[1;33m:\u001b[0m\u001b[1;33m\u001b[0m\u001b[0m\n\u001b[0;32m    546\u001b[0m             \u001b[1;32mif\u001b[0m \u001b[1;32mnot\u001b[0m \u001b[0mself\u001b[0m\u001b[1;33m.\u001b[0m\u001b[0m_ready\u001b[0m\u001b[1;33m:\u001b[0m\u001b[1;33m\u001b[0m\u001b[0m\n\u001b[1;32m--> 547\u001b[1;33m                 \u001b[0mself\u001b[0m\u001b[1;33m.\u001b[0m\u001b[0m_cond\u001b[0m\u001b[1;33m.\u001b[0m\u001b[0mwait\u001b[0m\u001b[1;33m(\u001b[0m\u001b[0mtimeout\u001b[0m\u001b[1;33m)\u001b[0m\u001b[1;33m\u001b[0m\u001b[0m\n\u001b[0m\u001b[0;32m    548\u001b[0m         \u001b[1;32mfinally\u001b[0m\u001b[1;33m:\u001b[0m\u001b[1;33m\u001b[0m\u001b[0m\n\u001b[0;32m    549\u001b[0m             \u001b[0mself\u001b[0m\u001b[1;33m.\u001b[0m\u001b[0m_cond\u001b[0m\u001b[1;33m.\u001b[0m\u001b[0mrelease\u001b[0m\u001b[1;33m(\u001b[0m\u001b[1;33m)\u001b[0m\u001b[1;33m\u001b[0m\u001b[0m\n",
      "\u001b[1;32m/usr/lib/python2.7/threading.pyc\u001b[0m in \u001b[0;36mwait\u001b[1;34m(self, timeout)\u001b[0m\n\u001b[0;32m    356\u001b[0m                         \u001b[1;32mbreak\u001b[0m\u001b[1;33m\u001b[0m\u001b[0m\n\u001b[0;32m    357\u001b[0m                     \u001b[0mdelay\u001b[0m \u001b[1;33m=\u001b[0m \u001b[0mmin\u001b[0m\u001b[1;33m(\u001b[0m\u001b[0mdelay\u001b[0m \u001b[1;33m*\u001b[0m \u001b[1;36m2\u001b[0m\u001b[1;33m,\u001b[0m \u001b[0mremaining\u001b[0m\u001b[1;33m,\u001b[0m \u001b[1;36m.05\u001b[0m\u001b[1;33m)\u001b[0m\u001b[1;33m\u001b[0m\u001b[0m\n\u001b[1;32m--> 358\u001b[1;33m                     \u001b[0m_sleep\u001b[0m\u001b[1;33m(\u001b[0m\u001b[0mdelay\u001b[0m\u001b[1;33m)\u001b[0m\u001b[1;33m\u001b[0m\u001b[0m\n\u001b[0m\u001b[0;32m    359\u001b[0m                 \u001b[1;32mif\u001b[0m \u001b[1;32mnot\u001b[0m \u001b[0mgotit\u001b[0m\u001b[1;33m:\u001b[0m\u001b[1;33m\u001b[0m\u001b[0m\n\u001b[0;32m    360\u001b[0m                     \u001b[1;32mif\u001b[0m \u001b[0m__debug__\u001b[0m\u001b[1;33m:\u001b[0m\u001b[1;33m\u001b[0m\u001b[0m\n",
      "\u001b[1;31mKeyboardInterrupt\u001b[0m: "
     ]
    }
   ],
   "source": [
    "sampler.run_mcmc(pos0, nSteps);"
   ]
  },
  {
   "cell_type": "code",
   "execution_count": null,
   "metadata": {
    "collapsed": false
   },
   "outputs": [],
   "source": [
    "nBurn = 100\n",
    "chain = sampler.chain[:,nBurn:, :].reshape((-1, nDim))\n",
    "sampler.pool.terminate()#there's a bug in emcee that creates daemon threads. This kills them.\n",
    "#del(sampler)\n",
    "#Maximum A Posteriori estimators for parameters\n",
    "MAP = chain.mean(axis = 0)\n",
    "labels = ['logL0', 'a','sigma']\n",
    "print '\\tMCMC\\tTrue'\n",
    "for label, val, truth in izip(labels, MAP, [logL0_true, a_true, sigma_l_true]):\n",
    "    print '%s:\\t%.3f\\t%.3f'%(label, val, truth)"
   ]
  },
  {
   "cell_type": "code",
   "execution_count": null,
   "metadata": {
    "collapsed": false
   },
   "outputs": [],
   "source": [
    "from corner import corner\n",
    "titles = ['$\\log{\\lambda_0}$', '$a$', '$\\sigma$']\n",
    "corner(chain, labels = titles , truths = [logL0_true, a_true, sigma_l_true]);"
   ]
  },
  {
   "cell_type": "code",
   "execution_count": null,
   "metadata": {
    "collapsed": true
   },
   "outputs": [],
   "source": []
  }
 ],
 "metadata": {
  "kernelspec": {
   "display_name": "Python 2",
   "language": "python",
   "name": "python2"
  }
 },
 "nbformat": 4,
 "nbformat_minor": 0
}
